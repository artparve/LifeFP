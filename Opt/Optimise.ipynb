{
  "nbformat": 4,
  "nbformat_minor": 0,
  "metadata": {
    "colab": {
      "name": "Optimise.ipynb",
      "provenance": []
    },
    "kernelspec": {
      "name": "python3",
      "display_name": "Python 3"
    },
    "language_info": {
      "name": "python"
    }
  },
  "cells": [
    {
      "cell_type": "code",
      "execution_count": 138,
      "metadata": {
        "colab": {
          "base_uri": "https://localhost:8080/"
        },
        "id": "SYKtfl8i10a2",
        "outputId": "df1e9e9d-7069-43f4-8fcb-dbf33798e7df"
      },
      "outputs": [
        {
          "output_type": "stream",
          "name": "stdout",
          "text": [
            "Looking in indexes: https://pypi.org/simple, https://us-python.pkg.dev/colab-wheels/public/simple/\n",
            "Requirement already satisfied: ipython-autotime in /usr/local/lib/python3.7/dist-packages (0.3.1)\n",
            "Requirement already satisfied: ipython in /usr/local/lib/python3.7/dist-packages (from ipython-autotime) (5.5.0)\n",
            "Requirement already satisfied: pickleshare in /usr/local/lib/python3.7/dist-packages (from ipython->ipython-autotime) (0.7.5)\n",
            "Requirement already satisfied: decorator in /usr/local/lib/python3.7/dist-packages (from ipython->ipython-autotime) (4.4.2)\n",
            "Requirement already satisfied: traitlets>=4.2 in /usr/local/lib/python3.7/dist-packages (from ipython->ipython-autotime) (5.1.1)\n",
            "Requirement already satisfied: simplegeneric>0.8 in /usr/local/lib/python3.7/dist-packages (from ipython->ipython-autotime) (0.8.1)\n",
            "Requirement already satisfied: prompt-toolkit<2.0.0,>=1.0.4 in /usr/local/lib/python3.7/dist-packages (from ipython->ipython-autotime) (1.0.18)\n",
            "Requirement already satisfied: pygments in /usr/local/lib/python3.7/dist-packages (from ipython->ipython-autotime) (2.6.1)\n",
            "Requirement already satisfied: setuptools>=18.5 in /usr/local/lib/python3.7/dist-packages (from ipython->ipython-autotime) (57.4.0)\n",
            "Requirement already satisfied: pexpect in /usr/local/lib/python3.7/dist-packages (from ipython->ipython-autotime) (4.8.0)\n",
            "Requirement already satisfied: six>=1.9.0 in /usr/local/lib/python3.7/dist-packages (from prompt-toolkit<2.0.0,>=1.0.4->ipython->ipython-autotime) (1.15.0)\n",
            "Requirement already satisfied: wcwidth in /usr/local/lib/python3.7/dist-packages (from prompt-toolkit<2.0.0,>=1.0.4->ipython->ipython-autotime) (0.2.5)\n",
            "Requirement already satisfied: ptyprocess>=0.5 in /usr/local/lib/python3.7/dist-packages (from pexpect->ipython->ipython-autotime) (0.7.0)\n",
            "The cython extension is already loaded. To reload it, use:\n",
            "  %reload_ext cython\n",
            "time: 2.83 s (started: 2022-06-26 16:33:01 +00:00)\n"
          ]
        }
      ],
      "source": [
        "!pip install ipython-autotime\n",
        "\n",
        "%load_ext cython\n",
        "\n",
        "from datetime import datetime\n",
        "import time\n",
        "\n",
        "import matplotlib.pyplot as plot\n",
        "from random import random\n",
        "import numpy as np"
      ]
    },
    {
      "cell_type": "markdown",
      "source": [
        "# Решение линейных уравнений на чистом Python'е и при помощи Cython'a"
      ],
      "metadata": {
        "id": "qb_KVtHy2H5x"
      }
    },
    {
      "cell_type": "code",
      "source": [
        "def gen_matrix(length):\n",
        "  return [[np.random.randint(1,10)  for a in range(length+1)] for b in range(length)]"
      ],
      "metadata": {
        "colab": {
          "base_uri": "https://localhost:8080/"
        },
        "id": "oi_BajYl28BS",
        "outputId": "2b2aa2e3-27f3-41bc-a447-837d2b7410a1"
      },
      "execution_count": 110,
      "outputs": [
        {
          "output_type": "stream",
          "name": "stdout",
          "text": [
            "time: 1.2 ms (started: 2022-06-26 16:27:04 +00:00)\n"
          ]
        }
      ]
    },
    {
      "cell_type": "code",
      "source": [
        "m = gen_matrix(5)\n",
        "m"
      ],
      "metadata": {
        "colab": {
          "base_uri": "https://localhost:8080/"
        },
        "id": "PSA-WMuM680-",
        "outputId": "9ac43f17-0268-41b1-80ee-feb215c9ba45"
      },
      "execution_count": 121,
      "outputs": [
        {
          "output_type": "execute_result",
          "data": {
            "text/plain": [
              "[[7, 1, 6, 3, 9, 6],\n",
              " [6, 2, 2, 1, 2, 2],\n",
              " [9, 7, 1, 1, 5, 7],\n",
              " [1, 4, 1, 2, 7, 4],\n",
              " [1, 3, 9, 5, 6, 8]]"
            ]
          },
          "metadata": {},
          "execution_count": 121
        },
        {
          "output_type": "stream",
          "name": "stdout",
          "text": [
            "time: 6.19 ms (started: 2022-06-26 16:29:20 +00:00)\n"
          ]
        }
      ]
    },
    {
      "cell_type": "code",
      "source": [
        "def python_gaus(m: list):\n",
        "  n = len(m)\n",
        "  ans = m\n",
        "  for i in range(n):\n",
        "    for j in range(n):\n",
        "      k = m[j][i]/m[i][i]\n",
        "      for t in range(i, n+1):\n",
        "        if i==j: continue\n",
        "        ans[j][t] = m[j][t] - k * m[i][t]\n",
        "  return [m[i][-1]/m[i][i] for i in range(n)]"
      ],
      "metadata": {
        "colab": {
          "base_uri": "https://localhost:8080/"
        },
        "id": "OPu3jd5N19kc",
        "outputId": "f9c13959-f9e7-4629-9c16-2d20ee753247"
      },
      "execution_count": 104,
      "outputs": [
        {
          "output_type": "stream",
          "name": "stdout",
          "text": [
            "time: 3.52 ms (started: 2022-06-26 16:22:41 +00:00)\n"
          ]
        }
      ]
    },
    {
      "cell_type": "code",
      "source": [
        "%%cython\n",
        "import copy\n",
        "\n",
        "def cy_gaus(m: list):\n",
        "  s = datetime.now()\n",
        "  a = copy.deepcopy(m)\n",
        "  cdef int n = len(a)\n",
        "  for i in range(n):\n",
        "    for j in range(n):\n",
        "      k = a[j][i]/a[i][i]\n",
        "      for t in range(i, n+1):\n",
        "        if i==j: continue\n",
        "        a[j][t] = a[j][t] - k * a[i][t]\n",
        "  ans = [a[i][-1]/a[i][i] for i in range(n)]\n",
        "  return int(datetime.now()-s)"
      ],
      "metadata": {
        "colab": {
          "base_uri": "https://localhost:8080/"
        },
        "id": "Jv64_g7T1ANi",
        "outputId": "05be1f2f-bf7e-4483-9598-d8234e7ff5fe"
      },
      "execution_count": 145,
      "outputs": [
        {
          "output_type": "stream",
          "name": "stdout",
          "text": [
            "time: 24.3 ms (started: 2022-06-26 16:36:11 +00:00)\n"
          ]
        },
        {
          "output_type": "stream",
          "name": "stderr",
          "text": [
            "\n",
            "Error compiling Cython file:\n",
            "------------------------------------------------------------\n",
            "...\n",
            "import copy\n",
            "\n",
            "def cy_gaus(m: list):\n",
            "  s = datetime.now()\n",
            "     ^\n",
            "------------------------------------------------------------\n",
            "\n",
            "/root/.cache/ipython/cython/_cython_magic_e2748b424425efd15ad8d0ff5d6ee65a.pyx:4:6: undeclared name not builtin: datetime\n"
          ]
        }
      ]
    },
    {
      "cell_type": "code",
      "source": [
        "m=[[1, 0.42, 0.54, 0.66, 0.3],\\\n",
        "   [0.42, 1, 0.32, 0.44, 0.5],\\\n",
        "   [0.54, 0.32, 1, 0.22, 0.7],\\\n",
        "   [0.66,0.44, 0.22, 1, 0.9]]"
      ],
      "metadata": {
        "colab": {
          "base_uri": "https://localhost:8080/"
        },
        "id": "6lijefVovr2x",
        "outputId": "08503092-9f94-42b2-ce16-61ac16114d5a"
      },
      "execution_count": 125,
      "outputs": [
        {
          "output_type": "stream",
          "name": "stdout",
          "text": [
            "time: 1.42 ms (started: 2022-06-26 16:29:58 +00:00)\n"
          ]
        }
      ]
    },
    {
      "cell_type": "code",
      "source": [
        "m = gen_matrix(100)"
      ],
      "metadata": {
        "colab": {
          "base_uri": "https://localhost:8080/"
        },
        "id": "kSc6ANFP2WH6",
        "outputId": "b866e913-e0b7-438c-e617-26d999dad05d"
      },
      "execution_count": 151,
      "outputs": [
        {
          "output_type": "stream",
          "name": "stdout",
          "text": [
            "time: 38.4 ms (started: 2022-06-26 16:39:51 +00:00)\n"
          ]
        }
      ]
    },
    {
      "cell_type": "code",
      "source": [
        "ans = python_gaus(m)\n"
      ],
      "metadata": {
        "colab": {
          "base_uri": "https://localhost:8080/"
        },
        "id": "B5_BFvuKmDWY",
        "outputId": "4b954061-7efe-4ad7-8b5c-5c2dd3d1de7f"
      },
      "execution_count": 142,
      "outputs": [
        {
          "output_type": "stream",
          "name": "stdout",
          "text": [
            "time: 117 ms (started: 2022-06-26 16:34:05 +00:00)\n"
          ]
        }
      ]
    },
    {
      "cell_type": "code",
      "source": [
        "ans2 = cy_gaus(m)"
      ],
      "metadata": {
        "colab": {
          "base_uri": "https://localhost:8080/"
        },
        "id": "ng8Gthwu4mNt",
        "outputId": "c0145dc2-e197-4162-d606-1af60fd70e6b"
      },
      "execution_count": 152,
      "outputs": [
        {
          "output_type": "stream",
          "name": "stdout",
          "text": [
            "time: 27.6 ms (started: 2022-06-26 16:40:02 +00:00)\n"
          ]
        }
      ]
    },
    {
      "cell_type": "code",
      "source": [
        "def f(n):\n",
        "  m = gen_matrix(n)\n",
        "  s = time.time()\n",
        "  ans2 = cy_gaus(m)\n",
        "  a1 = time.time() - s\n",
        "  s = time.time()\n",
        "  ans2 = python_gaus(m)\n",
        "  a2 = time.time() - s\n",
        "  return [a1, a2]"
      ],
      "metadata": {
        "colab": {
          "base_uri": "https://localhost:8080/"
        },
        "id": "-RHmQlwJmFux",
        "outputId": "ebd3897a-d408-41d8-821c-337012273f4f"
      },
      "execution_count": 162,
      "outputs": [
        {
          "output_type": "stream",
          "name": "stdout",
          "text": [
            "time: 3.63 ms (started: 2022-06-26 16:50:47 +00:00)\n"
          ]
        }
      ]
    },
    {
      "cell_type": "code",
      "source": [
        "x100 = list(range(10 , 100, 10))\n",
        "x300= list(range(100 , 300, 30))\n",
        "x600 = list(range(300 , 600, 50))\n",
        "x1000 = list(range(600 , 1000, 100))\n",
        "y1_100=[]; y2_100=[]\n",
        "for i in x100:\n",
        "  [a1, a2] = f(i)\n",
        "  y1_100.append(a1)\n",
        "  y2_100.append(a2)"
      ],
      "metadata": {
        "colab": {
          "base_uri": "https://localhost:8080/"
        },
        "id": "g5WeWCVz-kw_",
        "outputId": "5e4dcf2e-8999-42b9-8d00-5696c57dbef2"
      },
      "execution_count": 199,
      "outputs": [
        {
          "output_type": "stream",
          "name": "stdout",
          "text": [
            "time: 387 ms (started: 2022-06-26 17:09:09 +00:00)\n"
          ]
        }
      ]
    },
    {
      "cell_type": "code",
      "source": [
        "plt.plot(x100, y2_100, 'ro', x100, y1_100,  'bo')\n",
        "plt.xlabel('n')\n",
        "plt.ylabel('time')\n",
        "plt.show()"
      ],
      "metadata": {
        "colab": {
          "base_uri": "https://localhost:8080/",
          "height": 296
        },
        "id": "hKpRX9ci_lCa",
        "outputId": "2241fee9-c300-429d-e15d-ac2bf1dcb55d"
      },
      "execution_count": 204,
      "outputs": [
        {
          "output_type": "display_data",
          "data": {
            "text/plain": [
              "<Figure size 432x288 with 1 Axes>"
            ],
            "image/png": "[encoded data removed]"
          },
          "metadata": {
            "needs_background": "light"
          }
        },
        {
          "output_type": "stream",
          "name": "stdout",
          "text": [
            "time: 144 ms (started: 2022-06-26 17:16:54 +00:00)\n"
          ]
        }
      ]
    },
    {
      "cell_type": "code",
      "source": [
        "y1_300=[]; y2_300=[]\n",
        "for i in x300:\n",
        "  [a1, a2] = f(i)\n",
        "  y1_300.append(a1)\n",
        "  y2_300.append(a2)"
      ],
      "metadata": {
        "colab": {
          "base_uri": "https://localhost:8080/"
        },
        "id": "YIP-a3xk_R0V",
        "outputId": "b4958809-71ea-4564-f451-faa88940434c"
      },
      "execution_count": 200,
      "outputs": [
        {
          "output_type": "stream",
          "name": "stdout",
          "text": [
            "time: 9.29 s (started: 2022-06-26 17:09:19 +00:00)\n"
          ]
        }
      ]
    },
    {
      "cell_type": "code",
      "source": [
        "x=x100+x300\n",
        "y2=y2_100+y2_300\n",
        "y1=y1_100+y1_300\n",
        "plt.plot(x, y2, 'ro', x, y1,  'bo')\n",
        "plt.xlabel('n')\n",
        "plt.ylabel('time')\n",
        "plt.show()"
      ],
      "metadata": {
        "colab": {
          "base_uri": "https://localhost:8080/",
          "height": 296
        },
        "id": "GsQlKTkq_rJR",
        "outputId": "704fe597-25f2-4c58-b7f8-691842f525e0"
      },
      "execution_count": 205,
      "outputs": [
        {
          "output_type": "display_data",
          "data": {
            "text/plain": [
              "<Figure size 432x288 with 1 Axes>"
            ],
            "image/png": "[encoded data removed]"
          },
          "metadata": {
            "needs_background": "light"
          }
        },
        {
          "output_type": "stream",
          "name": "stdout",
          "text": [
            "time: 130 ms (started: 2022-06-26 17:17:02 +00:00)\n"
          ]
        }
      ]
    },
    {
      "cell_type": "code",
      "source": [
        "y1_600=[]; y2_600=[]\n",
        "for i in x600:\n",
        "  [a1, a2] = f(i)\n",
        "  y1_600.append(a1)\n",
        "  y2_600.append(a2)"
      ],
      "metadata": {
        "colab": {
          "base_uri": "https://localhost:8080/"
        },
        "id": "x5GtY0UN_T1o",
        "outputId": "cd4410e9-a18c-4312-f980-b3c796c6e5ff"
      },
      "execution_count": 201,
      "outputs": [
        {
          "output_type": "stream",
          "name": "stdout",
          "text": [
            "time: 1min 19s (started: 2022-06-26 17:09:39 +00:00)\n"
          ]
        }
      ]
    },
    {
      "cell_type": "code",
      "source": [
        "x=x100+x300+x600\n",
        "y2=y2_100+y2_300+y2_600\n",
        "y1=y1_100+y1_300+y1_600\n",
        "plt.plot(x, y2, 'ro', x, y1,  'bo')\n",
        "plt.xlabel('n')\n",
        "plt.ylabel('time')\n",
        "plt.show()"
      ],
      "metadata": {
        "colab": {
          "base_uri": "https://localhost:8080/",
          "height": 296
        },
        "id": "6hTxP26JAKwC",
        "outputId": "4310afb8-7f92-4541-a11a-c7bae71496b9"
      },
      "execution_count": 206,
      "outputs": [
        {
          "output_type": "display_data",
          "data": {
            "text/plain": [
              "<Figure size 432x288 with 1 Axes>"
            ],
            "image/png": "[encoded data removed]"
          },
          "metadata": {
            "needs_background": "light"
          }
        },
        {
          "output_type": "stream",
          "name": "stdout",
          "text": [
            "time: 122 ms (started: 2022-06-26 17:17:08 +00:00)\n"
          ]
        }
      ]
    },
    {
      "cell_type": "code",
      "source": [
        "y1_1000=[]; y2_1000=[]\n",
        "for i in x1000:\n",
        "  [a1, a2] = f(i)\n",
        "  y1_1000.append(a1)\n",
        "  y2_1000.append(a2)"
      ],
      "metadata": {
        "colab": {
          "base_uri": "https://localhost:8080/"
        },
        "id": "Mq5yNklY_WNr",
        "outputId": "d19b419e-80b8-4f89-aa57-2e6316ac86cc"
      },
      "execution_count": 202,
      "outputs": [
        {
          "output_type": "stream",
          "name": "stdout",
          "text": [
            "time: 4min 29s (started: 2022-06-26 17:10:59 +00:00)\n"
          ]
        }
      ]
    },
    {
      "cell_type": "code",
      "source": [
        "x=x100+x300+x600+x1000\n",
        "y2=y2_100+y2_300+y2_600+y2_1000\n",
        "y1=y1_100+y1_300+y1_600+y1_1000\n",
        "plt.plot(x, y2, 'ro', x, y1,  'bo')\n",
        "plt.xlabel('n')\n",
        "plt.ylabel('time')\n",
        "plt.show()"
      ],
      "metadata": {
        "colab": {
          "base_uri": "https://localhost:8080/",
          "height": 296
        },
        "id": "eeRNqpkjAQ_4",
        "outputId": "2e7829a2-f9df-4ec8-9a05-ecdde48878cb"
      },
      "execution_count": 207,
      "outputs": [
        {
          "output_type": "display_data",
          "data": {
            "text/plain": [
              "<Figure size 432x288 with 1 Axes>"
            ],
            "image/png": "[encoded data removed]"
          },
          "metadata": {
            "needs_background": "light"
          }
        },
        {
          "output_type": "stream",
          "name": "stdout",
          "text": [
            "time: 128 ms (started: 2022-06-26 17:17:13 +00:00)\n"
          ]
        }
      ]
    },
    {
      "cell_type": "code",
      "source": [
        "s=0\n",
        "for i in range(len(y1)):\n",
        "  s = s+y2[i]/y1[i]\n",
        "s/len(y1)"
      ],
      "metadata": {
        "colab": {
          "base_uri": "https://localhost:8080/"
        },
        "id": "ktWd1rY_-O2D",
        "outputId": "0d518861-9f6f-401b-b781-094fa7eecf3a"
      },
      "execution_count": 215,
      "outputs": [
        {
          "output_type": "execute_result",
          "data": {
            "text/plain": [
              "4.993981730910652"
            ]
          },
          "metadata": {},
          "execution_count": 215
        },
        {
          "output_type": "stream",
          "name": "stdout",
          "text": [
            "time: 3.62 ms (started: 2022-06-26 17:22:19 +00:00)\n"
          ]
        }
      ]
    },
    {
      "cell_type": "code",
      "source": [
        ""
      ],
      "metadata": {
        "colab": {
          "base_uri": "https://localhost:8080/"
        },
        "id": "AmmlkSnB7kv7",
        "outputId": "46ca14fd-bcfb-4d2b-84c6-86f225126e35"
      },
      "execution_count": 167,
      "outputs": [
        {
          "output_type": "stream",
          "name": "stdout",
          "text": [
            "time: 1.19 ms (started: 2022-06-26 16:53:22 +00:00)\n"
          ]
        }
      ]
    },
    {
      "cell_type": "code",
      "source": [
        "plt.plot(x, y2, 'ro', x, y1,  'bo')\n",
        "plt.xlabel('n')\n",
        "plt.ylabel('time')\n",
        "plt.show()"
      ],
      "metadata": {
        "colab": {
          "base_uri": "https://localhost:8080/",
          "height": 296
        },
        "id": "wIyAkJua65ek",
        "outputId": "44087e18-7ec0-4701-a19f-6f0a143481d7"
      },
      "execution_count": 193,
      "outputs": [
        {
          "output_type": "display_data",
          "data": {
            "text/plain": [
              "<Figure size 432x288 with 1 Axes>"
            ],
            "image/png": "[encoded data removed]"
          },
          "metadata": {
            "needs_background": "light"
          }
        },
        {
          "output_type": "stream",
          "name": "stdout",
          "text": [
            "time: 147 ms (started: 2022-06-26 17:02:19 +00:00)\n"
          ]
        }
      ]
    },
    {
      "cell_type": "code",
      "source": [
        ""
      ],
      "metadata": {
        "id": "BzyqRz-x6n7h"
      },
      "execution_count": null,
      "outputs": []
    }
  ]
}